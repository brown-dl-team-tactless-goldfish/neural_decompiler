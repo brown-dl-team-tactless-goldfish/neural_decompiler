{
 "cells": [
  {
   "cell_type": "code",
   "execution_count": null,
   "metadata": {},
   "outputs": [],
   "source": [
    "import os, sys\n",
    "sys.path.insert(0, '')\n",
    "from model.transformer.dataprocess import DataLoader, Translator, write_vocab_as_csv, read_vocab_from_csv\n",
    "\n",
    "\n",
    "current_dir = os.path.dirname(os.path.realpath(__file__))\n",
    "\n",
    "\n"
   ]
  }
 ],
 "metadata": {
  "language_info": {
   "name": "python"
  },
  "orig_nbformat": 4
 },
 "nbformat": 4,
 "nbformat_minor": 2
}
